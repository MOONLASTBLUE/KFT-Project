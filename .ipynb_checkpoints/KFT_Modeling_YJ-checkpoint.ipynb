{
 "cells": [
  {
   "cell_type": "code",
   "execution_count": 1,
   "id": "5530ea8c-b5af-4a58-b43e-1958a645ab4b",
   "metadata": {
    "tags": []
   },
   "outputs": [],
   "source": [
    "import pandas as pd\n",
    "import numpy as np\n",
    "import matplotlib.pyplot as plt\n",
    "\n",
    "from xgboost import XGBClassifier\n",
    "from sklearn.metrics import accuracy_score, classification_report,mean_squared_error, precision_score, recall_score, f1_score\n",
    "from sklearn.model_selection import train_test_split\n",
    "from sklearn.feature_extraction.text import TfidfVectorizer\n",
    "from sklearn.preprocessing import StandardScaler, LabelEncoder\n",
    "from sklearn.neighbors import NearestNeighbors\n",
    "from sklearn.metrics.pairwise import cosine_similarity\n",
    "\n",
    "from surprise import SVD, Dataset, Reader\n",
    "from surprise.model_selection import train_test_split\n",
    "from surprise import accuracy\n",
    "\n",
    "data = pd.read_csv('KFT Dataset_modified.csv')"
   ]
  },
  {
   "cell_type": "code",
   "execution_count": 2,
   "id": "0d3dc371-de79-48cd-a761-339a55bada45",
   "metadata": {},
   "outputs": [
    {
     "data": {
      "text/html": [
       "<div>\n",
       "<style scoped>\n",
       "    .dataframe tbody tr th:only-of-type {\n",
       "        vertical-align: middle;\n",
       "    }\n",
       "\n",
       "    .dataframe tbody tr th {\n",
       "        vertical-align: top;\n",
       "    }\n",
       "\n",
       "    .dataframe thead th {\n",
       "        text-align: right;\n",
       "    }\n",
       "</style>\n",
       "<table border=\"1\" class=\"dataframe\">\n",
       "  <thead>\n",
       "    <tr style=\"text-align: right;\">\n",
       "      <th></th>\n",
       "      <th>Menu</th>\n",
       "      <th>Category</th>\n",
       "      <th>Base Type</th>\n",
       "      <th>Flavor Tags</th>\n",
       "      <th>Customizable Sweetness</th>\n",
       "      <th>Available Sweetness Level</th>\n",
       "      <th>Allergens</th>\n",
       "      <th>Contains Caffeine</th>\n",
       "      <th>Contains Gluten</th>\n",
       "      <th>Oat Milk Substitution</th>\n",
       "      <th>Vegan-friendly</th>\n",
       "      <th>Contains dairy</th>\n",
       "    </tr>\n",
       "  </thead>\n",
       "  <tbody>\n",
       "    <tr>\n",
       "      <th>0</th>\n",
       "      <td>Kung Fu Black Tea</td>\n",
       "      <td>Classic</td>\n",
       "      <td>Black</td>\n",
       "      <td>Bold, Citrusy, Normal</td>\n",
       "      <td>Yes</td>\n",
       "      <td>0, 30, 50, 70, 100, 120</td>\n",
       "      <td>No</td>\n",
       "      <td>Yes</td>\n",
       "      <td>No</td>\n",
       "      <td>No</td>\n",
       "      <td>Yes</td>\n",
       "      <td>No</td>\n",
       "    </tr>\n",
       "    <tr>\n",
       "      <th>1</th>\n",
       "      <td>Winter Melon Tea</td>\n",
       "      <td>Classic</td>\n",
       "      <td>Water</td>\n",
       "      <td>Sweet, Smooth, Normal</td>\n",
       "      <td>Yes</td>\n",
       "      <td>30, 50, 70, 100</td>\n",
       "      <td>No</td>\n",
       "      <td>No</td>\n",
       "      <td>No</td>\n",
       "      <td>No</td>\n",
       "      <td>Yes</td>\n",
       "      <td>No</td>\n",
       "    </tr>\n",
       "    <tr>\n",
       "      <th>2</th>\n",
       "      <td>Honey Green Tea</td>\n",
       "      <td>Classic</td>\n",
       "      <td>Green</td>\n",
       "      <td>Sweet, Normal</td>\n",
       "      <td>Yes</td>\n",
       "      <td>30, 50, 70, 100</td>\n",
       "      <td>No</td>\n",
       "      <td>Yes</td>\n",
       "      <td>No</td>\n",
       "      <td>No</td>\n",
       "      <td>No</td>\n",
       "      <td>No</td>\n",
       "    </tr>\n",
       "    <tr>\n",
       "      <th>3</th>\n",
       "      <td>Kung Fu Green Tea</td>\n",
       "      <td>Classic</td>\n",
       "      <td>Green</td>\n",
       "      <td>Refreshing, Sweet, Normal</td>\n",
       "      <td>Yes</td>\n",
       "      <td>0, 30, 50, 70, 100, 120</td>\n",
       "      <td>No</td>\n",
       "      <td>Yes</td>\n",
       "      <td>No</td>\n",
       "      <td>No</td>\n",
       "      <td>Yes</td>\n",
       "      <td>No</td>\n",
       "    </tr>\n",
       "    <tr>\n",
       "      <th>4</th>\n",
       "      <td>Winter Melon Green Tea</td>\n",
       "      <td>Classic</td>\n",
       "      <td>Green</td>\n",
       "      <td>Smooth, Normal</td>\n",
       "      <td>Yes</td>\n",
       "      <td>30, 50, 70, 100</td>\n",
       "      <td>No</td>\n",
       "      <td>Yes</td>\n",
       "      <td>No</td>\n",
       "      <td>No</td>\n",
       "      <td>Yes</td>\n",
       "      <td>No</td>\n",
       "    </tr>\n",
       "    <tr>\n",
       "      <th>...</th>\n",
       "      <td>...</td>\n",
       "      <td>...</td>\n",
       "      <td>...</td>\n",
       "      <td>...</td>\n",
       "      <td>...</td>\n",
       "      <td>...</td>\n",
       "      <td>...</td>\n",
       "      <td>...</td>\n",
       "      <td>...</td>\n",
       "      <td>...</td>\n",
       "      <td>...</td>\n",
       "      <td>...</td>\n",
       "    </tr>\n",
       "    <tr>\n",
       "      <th>131</th>\n",
       "      <td>Black Tea Wow Milk Cap</td>\n",
       "      <td>Milk Cap</td>\n",
       "      <td>Black</td>\n",
       "      <td>Creamy, Normal, Sweet, Salty</td>\n",
       "      <td>Yes</td>\n",
       "      <td>0, 30, 50, 70, 100, 120</td>\n",
       "      <td>No</td>\n",
       "      <td>Yes</td>\n",
       "      <td>No</td>\n",
       "      <td>No</td>\n",
       "      <td>No</td>\n",
       "      <td>Yes</td>\n",
       "    </tr>\n",
       "    <tr>\n",
       "      <th>132</th>\n",
       "      <td>Green Tea Wow Milk Cap</td>\n",
       "      <td>Milk Cap</td>\n",
       "      <td>Green</td>\n",
       "      <td>Creamy, Normal, Sweet, Salty</td>\n",
       "      <td>Yes</td>\n",
       "      <td>0, 30, 50, 70, 100, 120</td>\n",
       "      <td>No</td>\n",
       "      <td>Yes</td>\n",
       "      <td>No</td>\n",
       "      <td>No</td>\n",
       "      <td>No</td>\n",
       "      <td>Yes</td>\n",
       "    </tr>\n",
       "    <tr>\n",
       "      <th>133</th>\n",
       "      <td>Oolong Tea Wow Milk Cap</td>\n",
       "      <td>Milk Cap</td>\n",
       "      <td>Oolong</td>\n",
       "      <td>Creamy, Normal, Sweet, Salty</td>\n",
       "      <td>Yes</td>\n",
       "      <td>0, 30, 50, 70, 100, 120</td>\n",
       "      <td>No</td>\n",
       "      <td>Yes</td>\n",
       "      <td>No</td>\n",
       "      <td>No</td>\n",
       "      <td>No</td>\n",
       "      <td>Yes</td>\n",
       "    </tr>\n",
       "    <tr>\n",
       "      <th>134</th>\n",
       "      <td>Matcha Milk Cap</td>\n",
       "      <td>Milk Cap</td>\n",
       "      <td>Water, Milk</td>\n",
       "      <td>Creamy, Normal, Salty</td>\n",
       "      <td>Yes</td>\n",
       "      <td>0, 30, 50, 70, 100, 120</td>\n",
       "      <td>No</td>\n",
       "      <td>Yes</td>\n",
       "      <td>No</td>\n",
       "      <td>No</td>\n",
       "      <td>No</td>\n",
       "      <td>Yes</td>\n",
       "    </tr>\n",
       "    <tr>\n",
       "      <th>135</th>\n",
       "      <td>Cocoa Cream Wow Milk Cap</td>\n",
       "      <td>Milk Cap</td>\n",
       "      <td>Milk</td>\n",
       "      <td>Creamy, Sweet, Salty, Chocolate</td>\n",
       "      <td>No</td>\n",
       "      <td>100</td>\n",
       "      <td>No</td>\n",
       "      <td>No</td>\n",
       "      <td>No</td>\n",
       "      <td>Yes</td>\n",
       "      <td>No</td>\n",
       "      <td>Yes</td>\n",
       "    </tr>\n",
       "  </tbody>\n",
       "</table>\n",
       "<p>136 rows × 12 columns</p>\n",
       "</div>"
      ],
      "text/plain": [
       "                         Menu  Category    Base Type  \\\n",
       "0           Kung Fu Black Tea   Classic       Black    \n",
       "1            Winter Melon Tea   Classic        Water   \n",
       "2             Honey Green Tea   Classic       Green    \n",
       "3           Kung Fu Green Tea   Classic       Green    \n",
       "4      Winter Melon Green Tea   Classic       Green    \n",
       "..                        ...       ...          ...   \n",
       "131    Black Tea Wow Milk Cap  Milk Cap        Black   \n",
       "132    Green Tea Wow Milk Cap  Milk Cap        Green   \n",
       "133   Oolong Tea Wow Milk Cap  Milk Cap       Oolong   \n",
       "134           Matcha Milk Cap  Milk Cap  Water, Milk   \n",
       "135  Cocoa Cream Wow Milk Cap  Milk Cap         Milk   \n",
       "\n",
       "                         Flavor Tags Customizable Sweetness  \\\n",
       "0              Bold, Citrusy, Normal                    Yes   \n",
       "1              Sweet, Smooth, Normal                    Yes   \n",
       "2                      Sweet, Normal                    Yes   \n",
       "3          Refreshing, Sweet, Normal                    Yes   \n",
       "4                     Smooth, Normal                    Yes   \n",
       "..                               ...                    ...   \n",
       "131     Creamy, Normal, Sweet, Salty                    Yes   \n",
       "132     Creamy, Normal, Sweet, Salty                    Yes   \n",
       "133     Creamy, Normal, Sweet, Salty                    Yes   \n",
       "134            Creamy, Normal, Salty                    Yes   \n",
       "135  Creamy, Sweet, Salty, Chocolate                     No   \n",
       "\n",
       "    Available Sweetness Level Allergens Contains Caffeine Contains Gluten  \\\n",
       "0     0, 30, 50, 70, 100, 120        No               Yes              No   \n",
       "1             30, 50, 70, 100        No                No              No   \n",
       "2             30, 50, 70, 100        No               Yes              No   \n",
       "3     0, 30, 50, 70, 100, 120        No               Yes              No   \n",
       "4             30, 50, 70, 100        No               Yes              No   \n",
       "..                        ...       ...               ...             ...   \n",
       "131   0, 30, 50, 70, 100, 120        No               Yes              No   \n",
       "132   0, 30, 50, 70, 100, 120        No               Yes              No   \n",
       "133   0, 30, 50, 70, 100, 120        No               Yes              No   \n",
       "134   0, 30, 50, 70, 100, 120        No               Yes              No   \n",
       "135                       100        No                No              No   \n",
       "\n",
       "    Oat Milk Substitution Vegan-friendly Contains dairy  \n",
       "0                      No            Yes             No  \n",
       "1                      No            Yes             No  \n",
       "2                      No             No             No  \n",
       "3                      No            Yes             No  \n",
       "4                      No            Yes             No  \n",
       "..                    ...            ...            ...  \n",
       "131                    No             No            Yes  \n",
       "132                    No             No            Yes  \n",
       "133                    No             No            Yes  \n",
       "134                    No             No            Yes  \n",
       "135                   Yes             No            Yes  \n",
       "\n",
       "[136 rows x 12 columns]"
      ]
     },
     "execution_count": 2,
     "metadata": {},
     "output_type": "execute_result"
    }
   ],
   "source": [
    "data"
   ]
  },
  {
   "cell_type": "code",
   "execution_count": 3,
   "id": "500b7642-e0c6-44ef-8d74-9fb82efe58e0",
   "metadata": {
    "tags": []
   },
   "outputs": [],
   "source": [
    "# print(data.info())\n",
    "\n",
    "# print(data['Available Sweetness Level'].unique())\n"
   ]
  },
  {
   "cell_type": "code",
   "execution_count": 4,
   "id": "0b2bb7b1-82dd-4616-9f81-ecfc64d672f7",
   "metadata": {
    "tags": []
   },
   "outputs": [],
   "source": [
    "##Content-Based Filtering\n",
    "\n",
    "# Flavor Tags 결측값\n",
    "data['Flavor Tags'] = data['Flavor Tags'].fillna(\"\")\n",
    "\n",
    "# Binary Features (Yes/No) \n",
    "binary_columns = ['Customizable Sweetness', 'Contains Caffeine', 'Contains Gluten', \n",
    "                  'Oat Milk Substitution', 'Vegan-friendly', 'Contains dairy']\n",
    "for col in binary_columns:\n",
    "    data[col] = data[col].map({'Yes': 1, 'No': 0})"
   ]
  },
  {
   "cell_type": "code",
   "execution_count": 5,
   "id": "43b30d0e-1647-43dd-b352-fd91c3b02942",
   "metadata": {
    "tags": []
   },
   "outputs": [],
   "source": [
    "# TF-IDF 벡터화 -> Flavor Tags\n",
    "vectorizer = TfidfVectorizer()\n",
    "flavor_tags_tfidf = vectorizer.fit_transform(data['Flavor Tags'])\n",
    "\n",
    "# 주요 피처 \n",
    "features = pd.DataFrame(flavor_tags_tfidf.toarray(), columns=vectorizer.get_feature_names_out())\n",
    "features = pd.concat([features, data[binary_columns]], axis=1)"
   ]
  },
  {
   "cell_type": "code",
   "execution_count": 6,
   "id": "2149e9a5-1f6b-45c0-bc5e-5eac48d9d60a",
   "metadata": {
    "tags": []
   },
   "outputs": [],
   "source": [
    "# Cosine Similarity\n",
    "similarity_matrix = cosine_similarity(features)\n",
    "\n",
    "def get_similar_drinks(input_index, n_recommendations=5):\n",
    "    similarity_scores = list(enumerate(similarity_matrix[input_index]))\n",
    "    sorted_scores = sorted(similarity_scores, key=lambda x: x[1], reverse=True)[1:n_recommendations+1]\n",
    "    return sorted_scores"
   ]
  },
  {
   "cell_type": "code",
   "execution_count": 7,
   "id": "accb4f99-347f-491a-b06f-5ca30ee2d5af",
   "metadata": {},
   "outputs": [
    {
     "name": "stdout",
     "output_type": "stream",
     "text": [
      "similar drinks to 'Kung Fu Black Tea':\n",
      "- Guava Black Tea (유사도: 0.93)\n",
      "- Guava Punch (유사도: 0.87)\n",
      "- Lemon Black Tea (유사도: 0.85)\n",
      "- Lychee Black Tea (유사도: 0.85)\n",
      "- Kung Fu Green Tea (유사도: 0.81)\n"
     ]
    }
   ],
   "source": [
    "def content_based_recommendation(input_drink, n_recommendations=5):\n",
    "    input_index = data[data['Menu'] == input_drink].index[0]\n",
    "    similar_drinks = get_similar_drinks(input_index, n_recommendations)\n",
    "    \n",
    "    print(f\"similar drinks to '{input_drink}':\")\n",
    "    for idx, score in similar_drinks:\n",
    "        print(f\"- {data.iloc[idx]['Menu']} (유사도: {score:.2f})\")\n",
    "\n",
    "content_based_recommendation(\"Kung Fu Black Tea\", n_recommendations=5)"
   ]
  },
  {
   "cell_type": "code",
   "execution_count": 8,
   "id": "244d5d01-ad3c-4611-a32c-59d0319c6afd",
   "metadata": {},
   "outputs": [
    {
     "data": {
      "image/png": "[encoded data removed]",
      "text/plain": [
       "<Figure size 800x600 with 1 Axes>"
      ]
     },
     "metadata": {},
     "output_type": "display_data"
    }
   ],
   "source": [
    "def visualize_recommendations(input_drink, similar_drinks):\n",
    "    labels = [input_drink] + [data.iloc[idx]['Menu'] for idx, _ in similar_drinks]\n",
    "    scores = [1.0] + [score for _, score in similar_drinks]\n",
    "    \n",
    "    plt.figure(figsize=(8, 6))\n",
    "    plt.barh(labels, scores, color='skyblue')\n",
    "    plt.xlabel(\"similar score\")\n",
    "    plt.ylabel(\"drink\")\n",
    "    plt.title(f\"Similar drink recommendations w '{input_drink}'\")\n",
    "    plt.gca().invert_yaxis()\n",
    "    plt.show()\n",
    "\n",
    "similar_drinks = get_similar_drinks(data[data['Menu'] == \"Kung Fu Black Tea\"].index[0], n_recommendations=5)\n",
    "visualize_recommendations(\"Kung Fu Black Tea\", similar_drinks)\n"
   ]
  },
  {
   "cell_type": "code",
   "execution_count": 9,
   "id": "90a91fac-a7f1-409a-89df-f0767b971e22",
   "metadata": {},
   "outputs": [],
   "source": [
    "##KNN Recommendation Model\n",
    "\n",
    "data_knn = pd.read_csv('KFT Dataset_modified.csv')\n",
    "\n",
    "# categorical col\n",
    "label_encoders = {}\n",
    "categorical_columns = ['Category', 'Base Type', 'Allergens']\n",
    "for col in categorical_columns:\n",
    "    le = LabelEncoder()\n",
    "    data_knn[col] = le.fit_transform(data_knn[col])\n",
    "    label_encoders[col] = le  \n",
    "\n",
    "# Binary Features(Yes/No)\n",
    "binary_columns = ['Customizable Sweetness', 'Contains Caffeine', 'Contains Gluten', \n",
    "                  'Oat Milk Substitution', 'Vegan-friendly', 'Contains dairy']\n",
    "for col in binary_columns:\n",
    "    data_knn[col] = data_knn[col].map({'Yes': 1, 'No': 0})\n",
    "\n",
    "# Available Sweetness Level -> number list\n",
    "def process_sweetness(sweetness_str):\n",
    "    sweetness_list = list(map(int, sweetness_str.split(\", \")))\n",
    "    return sum(sweetness_list) / len(sweetness_list)\n",
    "\n",
    "data_knn['Available Sweetness Level'] = data_knn['Available Sweetness Level'].apply(process_sweetness)\n",
    "\n",
    "# Flavor Tags TF-IDF change\n",
    "from sklearn.feature_extraction.text import TfidfVectorizer\n",
    "\n",
    "vectorizer = TfidfVectorizer()\n",
    "flavor_tags_tfidf = vectorizer.fit_transform(data_knn['Flavor Tags'].fillna(\"\"))\n",
    "\n",
    "# TF-IDF -> df\n",
    "flavor_features = pd.DataFrame(flavor_tags_tfidf.toarray(), columns=vectorizer.get_feature_names_out())\n",
    "data_knn = pd.concat([data_knn.reset_index(drop=True), flavor_features.reset_index(drop=True)], axis=1)\n",
    "\n",
    "# continuous cols\n",
    "scaler = StandardScaler()\n",
    "continuous_columns = ['Available Sweetness Level']\n",
    "data_knn[continuous_columns] = scaler.fit_transform(data_knn[continuous_columns])\n"
   ]
  },
  {
   "cell_type": "code",
   "execution_count": 10,
   "id": "c72b8ecd-8054-49a5-8022-263ae4aa6f3c",
   "metadata": {},
   "outputs": [],
   "source": [
    "# KNN Model\n",
    "knn_model = NearestNeighbors(metric='euclidean', algorithm='auto')\n",
    "knn_features = data_knn[categorical_columns + binary_columns + continuous_columns + list(flavor_features.columns)]\n",
    "knn_model.fit(knn_features)\n",
    "\n",
    "def knn_recommendation(input_drink, n_recommendations=5):\n",
    "    input_index = data_knn[data_knn['Menu'] == input_drink].index[0]\n",
    "    distances, indices = knn_model.kneighbors([knn_features.iloc[input_index]], n_neighbors=n_recommendations+1)\n",
    "    \n",
    "    print(f\"'{input_drink}'와 가장 가까운 음료 추천:\")\n",
    "    for idx, dist in zip(indices[0][1:], distances[0][1:]):\n",
    "        print(f\"- {data_knn.iloc[idx]['Menu']} (거리: {dist:.2f})\")\n"
   ]
  },
  {
   "cell_type": "code",
   "execution_count": 11,
   "id": "85190cd5-11da-42d8-bf29-1c736d25eda5",
   "metadata": {},
   "outputs": [
    {
     "name": "stdout",
     "output_type": "stream",
     "text": [
      "'Kung Fu Black Tea'와 가장 가까운 음료 추천:\n",
      "- Honey Black Tea (거리: 1.43)\n",
      "- Coffee (거리: 2.88)\n",
      "- Macchiato (거리: 2.91)\n",
      "- Black Tea Wow Milk Cap (거리: 2.94)\n",
      "- Honey Black Tea Cap (거리: 2.94)\n"
     ]
    },
    {
     "name": "stderr",
     "output_type": "stream",
     "text": [
      "/opt/anaconda3/lib/python3.12/site-packages/sklearn/base.py:493: UserWarning: X does not have valid feature names, but NearestNeighbors was fitted with feature names\n",
      "  warnings.warn(\n"
     ]
    }
   ],
   "source": [
    "knn_recommendation(\"Kung Fu Black Tea\", n_recommendations=5)\n"
   ]
  },
  {
   "cell_type": "code",
   "execution_count": 12,
   "id": "355de6d3-9742-4fb7-8157-35628c1b9a36",
   "metadata": {},
   "outputs": [
    {
     "name": "stderr",
     "output_type": "stream",
     "text": [
      "/opt/anaconda3/lib/python3.12/site-packages/sklearn/base.py:493: UserWarning: X does not have valid feature names, but NearestNeighbors was fitted with feature names\n",
      "  warnings.warn(\n"
     ]
    },
    {
     "data": {
      "image/png": "[encoded data removed]",
      "text/plain": [
       "<Figure size 800x600 with 1 Axes>"
      ]
     },
     "metadata": {},
     "output_type": "display_data"
    }
   ],
   "source": [
    "def visualize_knn_recommendations(input_drink, indices, distances):\n",
    "    labels = [input_drink] + [data_knn.iloc[idx]['Menu'] for idx in indices[1:]]\n",
    "    scores = [0] + list(distances[1:])\n",
    "    \n",
    "    plt.figure(figsize=(8, 6))\n",
    "    plt.barh(labels, scores, color='orange')\n",
    "    plt.xlabel(\"distance (Euclidean Distance)\")\n",
    "    plt.ylabel(\"drinks\")\n",
    "    plt.title(f\"the closest drink to'{input_drink}'\")\n",
    "    plt.gca().invert_yaxis()\n",
    "    plt.show()\n",
    "\n",
    "\n",
    "distances, indices = knn_model.kneighbors([knn_features.iloc[data_knn[data_knn['Menu'] == \"Kung Fu Black Tea\"].index[0]]], n_neighbors=6)\n",
    "visualize_knn_recommendations(\"Kung Fu Black Tea\", indices[0], distances[0])\n"
   ]
  },
  {
   "cell_type": "code",
   "execution_count": 13,
   "id": "896b7e60-8d74-45d3-a03b-b31c2f65c9d4",
   "metadata": {},
   "outputs": [],
   "source": [
    "## XGBoost Recommendation Model\n",
    "\n",
    "data_xg = pd.read_csv('KFT Dataset_modified.csv')\n",
    "\n",
    "#categorical col\n",
    "label_encoders = {}\n",
    "categorical_columns = ['Category', 'Base Type', 'Allergens']\n",
    "for col in categorical_columns:\n",
    "    le = LabelEncoder()\n",
    "    data_xg[col] = le.fit_transform(data_xg[col])\n",
    "    label_encoders[col] = le\n",
    "\n",
    "binary_columns = ['Customizable Sweetness', 'Contains Caffeine', 'Contains Gluten', \n",
    "                  'Oat Milk Substitution', 'Vegan-friendly', 'Contains dairy']\n",
    "for col in binary_columns:\n",
    "    data_xg[col] = data_xg[col].map({'Yes': 1, 'No': 0})\n",
    "\n",
    "def process_sweetness(sweetness_str):\n",
    "    try:\n",
    "        sweetness_list = list(map(int, sweetness_str.split(\", \")))\n",
    "        return sum(sweetness_list) / len(sweetness_list)  # 평균값 계산\n",
    "    except Exception as e:\n",
    "        print(f\"Error processing sweetness: {e}\")\n",
    "        return 0\n",
    "\n",
    "data_xg['Available Sweetness Level'] = data_xg['Available Sweetness Level'].apply(process_sweetness)\n",
    "\n",
    "vectorizer = TfidfVectorizer()\n",
    "flavor_tags_tfidf = vectorizer.fit_transform(data_xg['Flavor Tags'].fillna(\"\"))\n",
    "\n",
    "flavor_features = pd.DataFrame(flavor_tags_tfidf.toarray(), columns=vectorizer.get_feature_names_out())\n",
    "data_xg = pd.concat([data_xg.reset_index(drop=True), flavor_features.reset_index(drop=True)], axis=1)\n",
    "\n",
    "data_xg = data_xg.drop(columns=['Flavor Tags'])\n",
    "\n",
    "scaler = StandardScaler()\n",
    "continuous_columns = ['Available Sweetness Level']\n",
    "data_xg[continuous_columns] = scaler.fit_transform(data_xg[continuous_columns])\n",
    "\n",
    "target_variable = 'Vegan-friendly'\n",
    "X_1 = data_xg.drop(columns=['Menu', target_variable])  # Feature 데이터\n",
    "y_1 = data_xg[target_variable]  # Target 데이터\n"
   ]
  },
  {
   "cell_type": "code",
   "execution_count": 14,
   "id": "4128f6eb-595e-4980-ac1a-8acb343d0015",
   "metadata": {},
   "outputs": [
    {
     "name": "stdout",
     "output_type": "stream",
     "text": [
      "Accuracy: 0.8571428571428571\n",
      "Classification Report:\n",
      "              precision    recall  f1-score   support\n",
      "\n",
      "           0       0.89      0.89      0.89        19\n",
      "           1       0.78      0.78      0.78         9\n",
      "\n",
      "    accuracy                           0.86        28\n",
      "   macro avg       0.84      0.84      0.84        28\n",
      "weighted avg       0.86      0.86      0.86        28\n",
      "\n"
     ]
    },
    {
     "name": "stderr",
     "output_type": "stream",
     "text": [
      "/opt/anaconda3/lib/python3.12/site-packages/xgboost/core.py:158: UserWarning: [20:28:33] WARNING: /Users/runner/work/xgboost/xgboost/src/learner.cc:740: \n",
      "Parameters: { \"use_label_encoder\" } are not used.\n",
      "\n",
      "  warnings.warn(smsg, UserWarning)\n"
     ]
    }
   ],
   "source": [
    "from sklearn.model_selection import train_test_split as sklearn_train_test_split\n",
    "\n",
    "# Train-Test Split\n",
    "X_train_1, X_test_1, y_train_1, y_test_1 = sklearn_train_test_split(X_1, y_1, test_size=0.2, random_state=42)\n",
    "\n",
    "# XGBoost model\n",
    "xgb_model = XGBClassifier(use_label_encoder=False, eval_metric='logloss', random_state=42)\n",
    "xgb_model.fit(X_train_1, y_train_1)\n",
    "\n",
    "y_pred_1 = xgb_model.predict(X_test_1)\n",
    "\n",
    "print(\"Accuracy:\", accuracy_score(y_test_1, y_pred_1))\n",
    "print(\"Classification Report:\")\n",
    "print(classification_report(y_test_1, y_pred_1))\n"
   ]
  },
  {
   "cell_type": "code",
   "execution_count": 15,
   "id": "3838bb47-2eb7-4ce6-bc7c-c4b856f0e253",
   "metadata": {},
   "outputs": [],
   "source": [
    "def xgb_recommendation(input_drink, model, top_n=5):\n",
    "    input_index = data_xg[data_xg['Menu'] == input_drink].index[0]\n",
    "    input_features = X_1.iloc[input_index].values.reshape(1, -1)\n",
    "    \n",
    "    prediction = model.predict(input_features)[0]\n",
    "    print(f\"'{input_drink}'의 추천 결과: {'Vegan-friendly' if prediction == 1 else 'Not Vegan-friendly'}\")\n",
    "\n",
    "    # Top-N 추천\n",
    "    distances = np.linalg.norm(X_1 - input_features, axis=1)\n",
    "    recommended_indices = np.argsort(distances)[:top_n]\n",
    "    print(\"\\n가장 가까운 음료 추천:\")\n",
    "    for idx in recommended_indices:\n",
    "        print(f\"- {data_xg.iloc[idx]['Menu']} (거리: {distances[idx]:.2f})\")\n"
   ]
  },
  {
   "cell_type": "code",
   "execution_count": 16,
   "id": "9eabdfa2-0c05-465f-8c95-0efea1f638da",
   "metadata": {},
   "outputs": [
    {
     "name": "stdout",
     "output_type": "stream",
     "text": [
      "'Kung Fu Black Tea'의 추천 결과: Vegan-friendly\n",
      "\n",
      "가장 가까운 음료 추천:\n",
      "- Kung Fu Black Tea (거리: 0.00)\n",
      "- Honey Black Tea (거리: 1.02)\n",
      "- Coffee (거리: 2.70)\n",
      "- Macchiato (거리: 2.73)\n",
      "- Black Tea Wow Milk Cap (거리: 2.77)\n"
     ]
    }
   ],
   "source": [
    "xgb_recommendation(\"Kung Fu Black Tea\", xgb_model, top_n=5)\n"
   ]
  },
  {
   "cell_type": "code",
   "execution_count": 17,
   "id": "db85a247-d1f9-4586-8040-a8825d84b6d4",
   "metadata": {},
   "outputs": [],
   "source": [
    "## Matrix Factorization\n",
    "\n",
    "data_matrix = pd.read_csv('KFT Dataset_modified.csv')\n",
    "\n",
    "# New user data create (users 50, drinks 136)\n",
    "np.random.seed(42)\n",
    "user_ids = [f\"User_{i}\" for i in range(50)]\n",
    "item_ids = data_matrix['Menu'].values\n",
    "\n",
    "# user-item prefer\n",
    "user_item_matrix = pd.DataFrame(\n",
    "    np.random.randint(0, 6, size=(50, len(item_ids))),  # score: 0~5\n",
    "    index=user_ids,\n",
    "    columns=item_ids\n",
    ")\n",
    "\n",
    "#user_item_matrix"
   ]
  },
  {
   "cell_type": "code",
   "execution_count": 18,
   "id": "d0ba81eb-f429-4979-bbe3-d3bc463f6ba6",
   "metadata": {},
   "outputs": [],
   "source": [
    "# randomly create some indices -> NaN\n",
    "nan_indices = np.random.choice(user_item_matrix.size, int(user_item_matrix.size * 0.2), replace=False)\n",
    "user_item_matrix.iloc[np.unravel_index(nan_indices, user_item_matrix.shape)] = np.nan\n"
   ]
  },
  {
   "cell_type": "code",
   "execution_count": 19,
   "id": "8bbc2b51-b430-48fd-8dec-f6d7667f54b2",
   "metadata": {},
   "outputs": [],
   "source": [
    "from surprise.model_selection import train_test_split as surprise_train_test_split\n",
    "\n",
    "# NaN: NaN-> 0 or Delete\n",
    "user_item_matrix = user_item_matrix.fillna(0)\n",
    "\n",
    "# Surprise data change\n",
    "reader = Reader(rating_scale=(0, 5))\n",
    "data_surprise = Dataset.load_from_df(\n",
    "    user_item_matrix.stack().reset_index().rename(columns={0: 'rating', 'level_0': 'userID', 'level_1': 'itemID'}),\n",
    "    reader\n",
    ")\n",
    "\n",
    "# Train-Test Split\n",
    "trainset, testset = surprise_train_test_split(data_surprise, test_size=0.1, random_state=42)\n"
   ]
  },
  {
   "cell_type": "code",
   "execution_count": 20,
   "id": "ba84db4e-97e4-4530-a6ad-b3d1f8e8210a",
   "metadata": {},
   "outputs": [
    {
     "name": "stdout",
     "output_type": "stream",
     "text": [
      "RMSE: 0.0446\n",
      "RMSE: 0.04455997597353691\n"
     ]
    }
   ],
   "source": [
    "# SVD model train\n",
    "svd = SVD(random_state=42)\n",
    "svd.fit(trainset)\n",
    "\n",
    "# Test data predict\n",
    "predictions = svd.test(testset)\n",
    "\n",
    "print(\"RMSE:\", accuracy.rmse(predictions))\n"
   ]
  },
  {
   "cell_type": "code",
   "execution_count": 21,
   "id": "eef6364e-a27e-42a1-bf80-54a50cf3536e",
   "metadata": {},
   "outputs": [],
   "source": [
    "def recommend_for_user(user_id, model, user_item_matrix, top_n=5):\n",
    "    # trained dinks list\n",
    "    known_items = user_item_matrix.loc[user_id][user_item_matrix.loc[user_id].notna()].index\n",
    "    all_items = user_item_matrix.columns\n",
    "    unknown_items = [item for item in all_items if item not in known_items]\n",
    "\n",
    "    # 각 음료에 대한 예상 평점 계산\n",
    "    predicted_ratings = [\n",
    "        (item, model.predict(user_id, item).est) for item in unknown_items\n",
    "    ]\n",
    "    # 평점 기준으로 정렬 sorting by predict score\n",
    "    predicted_ratings.sort(key=lambda x: x[1], reverse=True)\n",
    "\n",
    "    print(f\"\\n Recommendation Top-{top_n} to {user_id} :\")\n",
    "    for item, rating in predicted_ratings[:top_n]:\n",
    "        print(f\"- {item}: recommendation score {rating:.2f}\")\n"
   ]
  },
  {
   "cell_type": "code",
   "execution_count": 22,
   "id": "863ac7b1-9570-4762-ac44-2e766cf3e6da",
   "metadata": {},
   "outputs": [
    {
     "name": "stdout",
     "output_type": "stream",
     "text": [
      "\n",
      " Recommendation Top-5 to User_1 :\n"
     ]
    }
   ],
   "source": [
    "recommend_for_user(\"User_1\", svd, user_item_matrix, top_n=5)\n"
   ]
  },
  {
   "cell_type": "code",
   "execution_count": 23,
   "id": "c7d9e5ed-69ca-4609-94f6-cdad21654771",
   "metadata": {},
   "outputs": [],
   "source": [
    "def evaluate_model(model_name, true_ratings, predicted_ratings):\n",
    "    rmse = np.sqrt(mean_squared_error(true_ratings, predicted_ratings))\n",
    "    print(f\"{model_name} - RMSE: {rmse:.2f}\")\n"
   ]
  },
  {
   "cell_type": "code",
   "execution_count": 24,
   "id": "4dbfa0fc-7da5-4c30-a710-4a5bda2b27cb",
   "metadata": {},
   "outputs": [
    {
     "name": "stdout",
     "output_type": "stream",
     "text": [
      "Content-Based Filtering - RMSE: 2.96\n",
      "Content-Based Filtering - RMSE: 2.96\n"
     ]
    }
   ],
   "source": [
    "# Content-Based Filtering 결과 예시\n",
    "\n",
    "cosine_similarities = cosine_similarity(features)\n",
    "\n",
    "input_index = data[data['Menu'] == \"Kung Fu Black Tea\"].index[0]\n",
    "\n",
    "# cosine_similarities with input drinks and other drinks\n",
    "content_based_predictions = cosine_similarities[input_index]\n",
    "\n",
    "# Example of creating true_ratings for evaluation (requires users actual rating data, but randomly for now)\n",
    "np.random.seed(42)\n",
    "true_ratings = np.random.randint(1, 6, size=len(content_based_predictions))\n",
    "evaluate_model(\"Content-Based Filtering\", true_ratings, content_based_predictions)\n",
    "\n",
    "# Content-Based Filtering\n",
    "evaluate_model(\"Content-Based Filtering\", true_ratings, content_based_predictions)\n",
    "\n"
   ]
  },
  {
   "cell_type": "code",
   "execution_count": 25,
   "id": "225e8836-bd4e-4581-8861-5d49b3b11d1d",
   "metadata": {},
   "outputs": [
    {
     "name": "stdout",
     "output_type": "stream",
     "text": [
      "Similar drink recommendations w 'Kung Fu Black Tea':\n",
      "- Kung Fu Black Tea (distance: 0.00)\n",
      "- Honey Black Tea (distance: 1.43)\n",
      "- Coffee (distance: 2.88)\n",
      "- Macchiato (distance: 2.91)\n",
      "- Black Tea Wow Milk Cap (distance: 2.94)\n"
     ]
    },
    {
     "name": "stderr",
     "output_type": "stream",
     "text": [
      "/opt/anaconda3/lib/python3.12/site-packages/sklearn/base.py:493: UserWarning: X does not have valid feature names, but NearestNeighbors was fitted with feature names\n",
      "  warnings.warn(\n"
     ]
    }
   ],
   "source": [
    "# Finding Nearest Neighbors in KNN Model\n",
    "input_index = data_knn[data_knn['Menu'] == \"Kung Fu Black Tea\"].index[0]\n",
    "distances, indices = knn_model.kneighbors([knn_features.iloc[input_index]], n_neighbors=5)\n",
    "\n",
    "# Return the index of close neighbors and generate recommended results\n",
    "knn_predictions = indices[0]  \n",
    "\n",
    "print(f\"Similar drink recommendations w '{data_knn.iloc[input_index]['Menu']}':\")\n",
    "for idx, dist in zip(knn_predictions, distances[0]):\n",
    "    print(f\"- {data_knn.iloc[idx]['Menu']} (distance: {dist:.2f})\")\n"
   ]
  },
  {
   "cell_type": "code",
   "execution_count": 26,
   "id": "98b3bdf5-22e6-484c-812a-d469e382207a",
   "metadata": {},
   "outputs": [
    {
     "name": "stdout",
     "output_type": "stream",
     "text": [
      "XGBoost - RMSE: 0.38\n"
     ]
    }
   ],
   "source": [
    "# Use X_test_1 as test data\n",
    "xgb_predictions = xgb_model.predict(X_test_1)  \n",
    "\n",
    "# y_test_1 is the actual value\n",
    "evaluate_model(\"XGBoost\", y_test_1, xgb_predictions) "
   ]
  },
  {
   "cell_type": "code",
   "execution_count": 27,
   "id": "9ea71789-c74d-4697-883d-b83640e93b66",
   "metadata": {},
   "outputs": [
    {
     "name": "stdout",
     "output_type": "stream",
     "text": [
      "Matrix Factorization - RMSE: 0.04\n"
     ]
    }
   ],
   "source": [
    "# Matrix Factorization\n",
    "matrix_factorization_predictions = [\n",
    "    svd.predict(user_id, item_id).est for user_id, item_id, _ in testset\n",
    "]\n",
    "\n",
    "evaluate_model(\"Matrix Factorization\", [true_rating for _, _, true_rating in testset], matrix_factorization_predictions)\n"
   ]
  },
  {
   "cell_type": "code",
   "execution_count": 28,
   "id": "e70d2e4b-71df-4bbc-8028-5d9c54fc955d",
   "metadata": {},
   "outputs": [
    {
     "name": "stdout",
     "output_type": "stream",
     "text": [
      "Hybrid Recommendation - RMSE: 3.31\n"
     ]
    }
   ],
   "source": [
    "# List of names of all items - Common item definition\n",
    "common_items = data['Menu'].values \n",
    "\n",
    "# Content-Based Predictions expanded\n",
    "content_based_predictions_expanded = np.zeros(len(common_items))\n",
    "for idx, item in enumerate(common_items):\n",
    "    if item in data['Menu'].values:\n",
    "        item_idx = data[data['Menu'] == item].index[0]\n",
    "        content_based_predictions_expanded[idx] = content_based_predictions[item_idx]\n",
    "\n",
    "# KNN Predictions expanded\n",
    "knn_predictions_expanded = np.zeros(len(common_items))\n",
    "for idx, item in enumerate(common_items):\n",
    "    if item in data_knn['Menu'].values:\n",
    "        try:\n",
    "            item_index = data_knn[data_knn['Menu'] == item].index[0]\n",
    "            if item_index in indices[0]:\n",
    "                # If close neighbors exist, score is calculated based on distance\n",
    "                neighbor_idx = indices[0].tolist().index(item_index)\n",
    "                knn_predictions_expanded[idx] = 1 / (1 + distances[0][neighbor_idx])\n",
    "        # When item is not in the KNN result or an exception occurs\n",
    "        except (ValueError, IndexError):\n",
    "            pass  \n",
    "\n",
    "\n",
    "# XGBoost Predictions expanded\n",
    "xgb_predictions_expanded = np.zeros(len(common_items))\n",
    "for idx, item in enumerate(common_items):\n",
    "    if item in X_test_1.index:\n",
    "        xgb_predictions_expanded[idx] = xgb_predictions[X_test_1.index.get_loc(item)]\n",
    "\n",
    "# Matrix Factorization Predictions expanded\n",
    "matrix_factorization_predictions_expanded = np.zeros(len(common_items))\n",
    "for idx, item in enumerate(common_items):\n",
    "    if item in data['Menu'].values:\n",
    "        try:\n",
    "            user_id = testset[idx][0]\n",
    "            item_id = testset[idx][1]\n",
    "            matrix_factorization_predictions_expanded[idx] = svd.predict(user_id, item_id).est\n",
    "        except IndexError:\n",
    "            pass  \n",
    "\n",
    "weights = {\n",
    "    \"Content-Based\": 0.2,  \n",
    "    \"KNN\": 0.2,            \n",
    "    \"XGBoost\": 0.4,    \n",
    "    \"Matrix Factorization\": 0.2  }\n",
    "\n",
    "# Hybrid score\n",
    "hybrid_predictions = (\n",
    "    weights[\"Content-Based\"] * content_based_predictions_expanded +\n",
    "    weights[\"KNN\"] * knn_predictions_expanded +\n",
    "    weights[\"XGBoost\"] * xgb_predictions_expanded +\n",
    "    weights[\"Matrix Factorization\"] * matrix_factorization_predictions_expanded\n",
    ")\n",
    "\n",
    "# Evaluate\n",
    "evaluate_model(\"Hybrid Recommendation\", true_ratings, hybrid_predictions)\n"
   ]
  },
  {
   "cell_type": "code",
   "execution_count": 29,
   "id": "dc4dbf11-5ece-457f-a3bc-017fa3d385d0",
   "metadata": {},
   "outputs": [
    {
     "data": {
      "image/png": "[encoded data removed]",
      "text/plain": [
       "<Figure size 1000x600 with 1 Axes>"
      ]
     },
     "metadata": {},
     "output_type": "display_data"
    }
   ],
   "source": [
    "# RMSE\n",
    "rmse_content = np.sqrt(mean_squared_error(true_ratings, content_based_predictions))\n",
    "rmse_knn = np.sqrt(mean_squared_error(true_ratings, knn_predictions_expanded))\n",
    "rmse_xgb = np.sqrt(mean_squared_error(y_test_1, xgb_predictions))  # 수정: 확장된 데이터 대신 원본 사용\n",
    "rmse_matrix = np.sqrt(mean_squared_error([true_rating for _, _, true_rating in testset], matrix_factorization_predictions))\n",
    "rmse_hybrid = np.sqrt(mean_squared_error(true_ratings, hybrid_predictions))\n",
    "\n",
    "# score\n",
    "models = [\"Content-Based\", \"KNN\", \"XGBoost\", \"Matrix Factorization\", \"Hybrid\"]\n",
    "rmse_scores = [rmse_content, rmse_knn, rmse_xgb, rmse_matrix, rmse_hybrid]\n",
    "\n",
    "\n",
    "plt.figure(figsize=(10, 6))\n",
    "plt.bar(models, rmse_scores, color='skyblue')\n",
    "plt.xlabel(\"Models\")\n",
    "plt.ylabel(\"RMSE\")\n",
    "plt.title(\"Model Performance Comparison\")\n",
    "plt.show()\n"
   ]
  },
  {
   "cell_type": "code",
   "execution_count": 30,
   "id": "dbc12be1-ed2f-4ad7-a690-4af91073d8bf",
   "metadata": {},
   "outputs": [],
   "source": []
  }
 ],
 "metadata": {
  "kernelspec": {
   "display_name": "Python 3 (ipykernel)",
   "language": "python",
   "name": "python3"
  },
  "language_info": {
   "codemirror_mode": {
    "name": "ipython",
    "version": 3
   },
   "file_extension": ".py",
   "mimetype": "text/x-python",
   "name": "python",
   "nbconvert_exporter": "python",
   "pygments_lexer": "ipython3",
   "version": "3.12.7"
  }
 },
 "nbformat": 4,
 "nbformat_minor": 5
}
