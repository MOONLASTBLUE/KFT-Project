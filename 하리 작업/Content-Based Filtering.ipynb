{
 "cells": [
  {
   "cell_type": "code",
   "execution_count": 1,
   "id": "b6f47645-f97c-469a-95a7-7f33c4266c70",
   "metadata": {},
   "outputs": [],
   "source": [
    "from sklearn.feature_extraction.text import TfidfVectorizer\n",
    "from sklearn.metrics.pairwise import cosine_similarity\n",
    "import pandas as pd"
   ]
  },
  {
   "cell_type": "code",
   "execution_count": 2,
   "id": "4e66eb7a-90fd-4619-9830-9540ae151e2d",
   "metadata": {},
   "outputs": [],
   "source": [
    "# 데이터 로드\n",
    "file_path = '/Users/hailey/Desktop/DS Project/KFT/KFT Dataset - Sheet1.csv'\n",
    "dataset = pd.read_csv(file_path)"
   ]
  },
  {
   "cell_type": "markdown",
   "id": "8abdbdbe-64b7-4939-87a4-e9058dcab9b4",
   "metadata": {},
   "source": [
    "### 1. 데이터 전처리 및 TF-IDF 벡터화"
   ]
  },
  {
   "cell_type": "code",
   "execution_count": 4,
   "id": "d17d5462-337c-4571-bace-ea67087488bc",
   "metadata": {},
   "outputs": [
    {
     "name": "stdout",
     "output_type": "stream",
     "text": [
      "TF-IDF Matrix Shape: (136, 36)\n"
     ]
    }
   ],
   "source": [
    "# Flavor Tags와 Base Type을 결합하여 텍스트로 생성\n",
    "dataset['Combined Features'] = dataset['Flavor Tags'].fillna('') + ' ' + dataset['Base Type'].fillna('')\n",
    "\n",
    "# TF-IDF 벡터화\n",
    "tfidf = TfidfVectorizer(stop_words='english')\n",
    "tfidf_matrix = tfidf.fit_transform(dataset['Combined Features'])\n",
    "\n",
    "# TF-IDF 결과 확인\n",
    "print(f\"TF-IDF Matrix Shape: {tfidf_matrix.shape}\")"
   ]
  },
  {
   "cell_type": "markdown",
   "id": "317aef57-0566-4fc5-9730-0ee0cbe0293d",
   "metadata": {},
   "source": [
    "### 2. 사용자 입력과 유사도 계산"
   ]
  },
  {
   "cell_type": "code",
   "execution_count": 6,
   "id": "da46fbd2-8ac0-45b8-a683-e95b76a428bb",
   "metadata": {},
   "outputs": [
    {
     "name": "stdout",
     "output_type": "stream",
     "text": [
      "Recommended Drinks:\n",
      "                     Menu Category Base Type                Flavor Tags\n",
      "22           Lychee Punch    Punch     Green              Sweet, Fruity\n",
      "14        Apple Green Tea    Punch     Green      Fruity, Sweet, Normal\n",
      "24      White Grape Punch    Punch     Green  Sweet, Refreshing, Fruity\n",
      "27        Mango Green Tea    Punch     Green  Sweet, Refreshing, Fruity\n",
      "21        Peach Green Tea    Punch     Green         Fruity, Refreshing\n",
      "30  Sunshine Pinapple Tea    Punch     Green         Refreshing, Fruity\n"
     ]
    }
   ],
   "source": [
    "# 사용자 입력\n",
    "user_input = {\n",
    "    \"Flavor Tags\": \"Sweet Fruity\",\n",
    "    \"Base Type\": \"Green\"\n",
    "}\n",
    "user_profile = user_input['Flavor Tags'] + ' ' + user_input['Base Type']\n",
    "\n",
    "# 사용자 입력 텍스트를 TF-IDF로 변환\n",
    "user_vector = tfidf.transform([user_profile])\n",
    "\n",
    "# 코사인 유사도 계산\n",
    "cosine_similarities = cosine_similarity(user_vector, tfidf_matrix)\n",
    "\n",
    "# 상위 6개 음료 추천\n",
    "top_indices = cosine_similarities[0].argsort()[-6:][::-1]\n",
    "recommended_drinks = dataset.iloc[top_indices][['Menu', 'Category', 'Base Type', 'Flavor Tags']]\n",
    "print(\"Recommended Drinks:\")\n",
    "print(recommended_drinks)"
   ]
  }
 ],
 "metadata": {
  "kernelspec": {
   "display_name": "Python 3 (ipykernel)",
   "language": "python",
   "name": "python3"
  },
  "language_info": {
   "codemirror_mode": {
    "name": "ipython",
    "version": 3
   },
   "file_extension": ".py",
   "mimetype": "text/x-python",
   "name": "python",
   "nbconvert_exporter": "python",
   "pygments_lexer": "ipython3",
   "version": "3.12.7"
  }
 },
 "nbformat": 4,
 "nbformat_minor": 5
}
